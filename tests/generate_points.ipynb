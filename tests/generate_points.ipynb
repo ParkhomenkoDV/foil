{
 "cells": [
  {
   "cell_type": "code",
   "execution_count": 18,
   "metadata": {},
   "outputs": [],
   "source": [
    "import numpy as np\n",
    "from numpy import linspace, random"
   ]
  },
  {
   "cell_type": "code",
   "execution_count": 54,
   "metadata": {},
   "outputs": [],
   "source": [
    "def generate_points(low=3, hight=10, dubs=False):\n",
    "    \"\"\"Генерация 2D точек от low до hight штук\"\"\"\n",
    "    for n in range(low, hight+1, 1):\n",
    "        n_ = n//2\n",
    "        x_upper = linspace(1, 0, n_, endpoint=dubs)\n",
    "        x_lower = linspace(0, 1, n_, endpoint=True)\n",
    "        y_upper, y_lower = random.randn(len(x_upper)), random.randn(len(x_lower))\n",
    "        x = np.concatenate([x_upper, x_lower], axis=0)\n",
    "        y = np.concatenate([y_upper, y_lower], axis=0)\n",
    "        yield np.vstack([x, y]).T"
   ]
  },
  {
   "cell_type": "code",
   "execution_count": 55,
   "metadata": {},
   "outputs": [
    {
     "name": "stdout",
     "output_type": "stream",
     "text": [
      "[[1.         0.98259561]\n",
      " [0.         0.88865041]]\n",
      "\n",
      "[[ 1.          0.08173914]\n",
      " [ 0.5         1.14865547]\n",
      " [ 0.          0.19217928]\n",
      " [ 1.         -0.26804109]]\n",
      "\n",
      "[[ 1.         -0.07538025]\n",
      " [ 0.5        -0.56020348]\n",
      " [ 0.          1.01768422]\n",
      " [ 1.         -0.65688785]]\n",
      "\n",
      "[[ 1.          0.33692757]\n",
      " [ 0.66666667  0.23267409]\n",
      " [ 0.33333333  1.40710394]\n",
      " [ 0.         -0.40612863]\n",
      " [ 0.5         2.2385974 ]\n",
      " [ 1.          0.86245794]]\n",
      "\n",
      "[[ 1.          1.25643526]\n",
      " [ 0.66666667 -1.10892732]\n",
      " [ 0.33333333 -0.0897254 ]\n",
      " [ 0.         -2.51164585]\n",
      " [ 0.5         0.10764821]\n",
      " [ 1.          1.09060277]]\n",
      "\n",
      "[[ 1.          0.641106  ]\n",
      " [ 0.75        0.04896941]\n",
      " [ 0.5         0.24745182]\n",
      " [ 0.25       -0.18160225]\n",
      " [ 0.          1.33173158]\n",
      " [ 0.33333333 -0.82067419]\n",
      " [ 0.66666667 -1.60375801]\n",
      " [ 1.         -0.66622426]]\n",
      "\n",
      "[[ 1.         -0.61909713]\n",
      " [ 0.75       -0.34043146]\n",
      " [ 0.5        -0.69669974]\n",
      " [ 0.25        0.08694749]\n",
      " [ 0.          0.63296145]\n",
      " [ 0.33333333 -0.82702726]\n",
      " [ 0.66666667  0.29788649]\n",
      " [ 1.          0.2339305 ]]\n",
      "\n",
      "[[ 1.          0.13823952]\n",
      " [ 0.8        -0.27835729]\n",
      " [ 0.6        -1.17735883]\n",
      " [ 0.4         1.063249  ]\n",
      " [ 0.2         0.32258682]\n",
      " [ 0.          0.93516107]\n",
      " [ 0.25       -0.7490138 ]\n",
      " [ 0.5         0.76527779]\n",
      " [ 0.75        0.75846381]\n",
      " [ 1.         -0.39032182]]\n",
      "\n"
     ]
    }
   ],
   "source": [
    "for points in generate_points():\n",
    "    print(points)\n",
    "    print()"
   ]
  },
  {
   "cell_type": "code",
   "execution_count": null,
   "metadata": {},
   "outputs": [],
   "source": []
  }
 ],
 "metadata": {
  "kernelspec": {
   "display_name": "Python 3",
   "language": "python",
   "name": "python3"
  },
  "language_info": {
   "codemirror_mode": {
    "name": "ipython",
    "version": 3
   },
   "file_extension": ".py",
   "mimetype": "text/x-python",
   "name": "python",
   "nbconvert_exporter": "python",
   "pygments_lexer": "ipython3",
   "version": "3.11.9"
  }
 },
 "nbformat": 4,
 "nbformat_minor": 2
}
